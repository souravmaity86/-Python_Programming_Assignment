{
 "cells": [
  {
   "cell_type": "code",
   "execution_count": 1,
   "id": "24b20180-c1cf-41ae-b7b9-8465acbcdbd1",
   "metadata": {},
   "outputs": [
    {
     "name": "stdout",
     "output_type": "stream",
     "text": [
      " hello Python\n"
     ]
    }
   ],
   "source": [
    "print(\" hello Python\")"
   ]
  },
  {
   "cell_type": "code",
   "execution_count": 5,
   "id": "b0f6ebd2-b89e-42c0-8cab-3ee01c234fd8",
   "metadata": {},
   "outputs": [],
   "source": [
    "def func(x,y):\n",
    "    add= x+y\n",
    "    print(\" addition value:\", add)\n",
    "    sub=x-y\n",
    "    print(\" addition value:\", sub)\n",
    "    div=x/y\n",
    "    print(\" addition value:\", div)\n",
    "\n",
    "    "
   ]
  },
  {
   "cell_type": "code",
   "execution_count": 6,
   "id": "0df42a3c-cd4a-41f0-ba1e-e68ec391faa7",
   "metadata": {},
   "outputs": [
    {
     "name": "stdout",
     "output_type": "stream",
     "text": [
      " addition value: 12\n",
      " addition value: 4\n",
      " addition value: 2.0\n"
     ]
    }
   ],
   "source": [
    "func(8,4)"
   ]
  },
  {
   "cell_type": "code",
   "execution_count": 11,
   "id": "013d1013-b59d-49e2-ab0b-117a17866a8f",
   "metadata": {},
   "outputs": [],
   "source": [
    "def area(x,y):\n",
    "    A=0.5*x*y\n",
    "    print(\"area of the triangle: \", A)"
   ]
  },
  {
   "cell_type": "code",
   "execution_count": 12,
   "id": "b8e4c83d-33ba-439d-a59b-e1574d391523",
   "metadata": {},
   "outputs": [
    {
     "name": "stdout",
     "output_type": "stream",
     "text": [
      "area of the triangle:  10.0\n"
     ]
    }
   ],
   "source": [
    "area(5,4)"
   ]
  },
  {
   "cell_type": "code",
   "execution_count": 13,
   "id": "45207472-c477-488a-b99a-890b42585d83",
   "metadata": {},
   "outputs": [
    {
     "name": "stdout",
     "output_type": "stream",
     "text": [
      " value of x and Y before swapping: 3 5\n",
      " value of x and Y after  swapping: 5 3\n"
     ]
    }
   ],
   "source": [
    "x=3\n",
    "y=5\n",
    "print(\" value of x and Y before swapping:\", x, y)\n",
    "x=x+y\n",
    "y=x-y\n",
    "x=x-y\n",
    "print(\" value of x and Y after  swapping:\", x, y)"
   ]
  },
  {
   "cell_type": "code",
   "execution_count": 15,
   "id": "d3b20865-fd12-4175-9e3a-5faa6f16274b",
   "metadata": {},
   "outputs": [
    {
     "name": "stdout",
     "output_type": "stream",
     "text": [
      "1\n"
     ]
    }
   ],
   "source": [
    "import random\n",
    "\n",
    "print(random.randint(0,9))"
   ]
  },
  {
   "cell_type": "code",
   "execution_count": 16,
   "id": "f8497925-c244-47dd-bb00-4b75675ed53b",
   "metadata": {},
   "outputs": [
    {
     "name": "stdin",
     "output_type": "stream",
     "text": [
      "Enter value in kilometers:  100\n"
     ]
    },
    {
     "name": "stdout",
     "output_type": "stream",
     "text": [
      "100.00 kilometers is equal to 62.14 miles\n"
     ]
    }
   ],
   "source": [
    "kilometers = float(input(\"Enter value in kilometers: \"))\n",
    "\n",
    "# conversion factor\n",
    "conv_fac = 0.621371\n",
    "\n",
    "# calculate miles\n",
    "miles = kilometers * conv_fac\n",
    "print('%0.2f kilometers is equal to %0.2f miles' %(kilometers,miles))"
   ]
  },
  {
   "cell_type": "code",
   "execution_count": 18,
   "id": "b8d7ffaa-ad19-4152-adb8-a3baa16890c1",
   "metadata": {},
   "outputs": [
    {
     "name": "stdout",
     "output_type": "stream",
     "text": [
      "37.50 degree Celsius is equal to 99.5 degree Fahrenheit\n"
     ]
    }
   ],
   "source": [
    "# Python Program to convert temperature in celsius to fahrenheit\n",
    "\n",
    "# change this value for a different result\n",
    "celsius = 37.5\n",
    "\n",
    "# calculate fahrenheit\n",
    "fahrenheit = (celsius * 1.8) + 32\n",
    "print('%0.2f degree Celsius is equal to %0.2f degree Fahrenheit' %(celsius,fahrenheit))"
   ]
  },
  {
   "cell_type": "code",
   "execution_count": 21,
   "id": "3df70b6d-0b51-404e-80aa-f882877360d3",
   "metadata": {},
   "outputs": [
    {
     "ename": "SyntaxError",
     "evalue": "invalid syntax (381994094.py, line 2)",
     "output_type": "error",
     "traceback": [
      "\u001b[0;36m  Cell \u001b[0;32mIn [21], line 2\u001b[0;36m\u001b[0m\n\u001b[0;31m    func cal(yy,mm):\u001b[0m\n\u001b[0m         ^\u001b[0m\n\u001b[0;31mSyntaxError\u001b[0m\u001b[0;31m:\u001b[0m invalid syntax\n"
     ]
    }
   ],
   "source": [
    "import calendar\n",
    "func cal(yy,mm):\n",
    "    \n",
    "\n",
    "# To take month and year input from the user\n",
    "# yy = int(input(\"Enter year: \"))\n",
    "# mm = int(input(\"Enter month: \"))\n",
    "\n",
    "# display the calendar\n",
    "print(calendar.month(yy, mm))\n",
    "cal(2022,12)"
   ]
  },
  {
   "cell_type": "code",
   "execution_count": 22,
   "id": "c001807f-3ac8-4446-a1ec-66ab82298a1b",
   "metadata": {},
   "outputs": [
    {
     "name": "stdin",
     "output_type": "stream",
     "text": [
      "Enter year:  2022\n",
      "Enter month:  12\n"
     ]
    },
    {
     "name": "stdout",
     "output_type": "stream",
     "text": [
      "   December 2022\n",
      "Mo Tu We Th Fr Sa Su\n",
      "          1  2  3  4\n",
      " 5  6  7  8  9 10 11\n",
      "12 13 14 15 16 17 18\n",
      "19 20 21 22 23 24 25\n",
      "26 27 28 29 30 31\n",
      "\n"
     ]
    }
   ],
   "source": [
    "import calendar\n",
    "\n",
    "# To take month and year input from the user\n",
    "yy = int(input(\"Enter year: \"))\n",
    "mm = int(input(\"Enter month: \"))\n",
    "\n",
    "# display the calendar\n",
    "print(calendar.month(yy, mm))"
   ]
  },
  {
   "cell_type": "code",
   "execution_count": 23,
   "id": "19625083-a82b-4dae-a120-48bfeb07de18",
   "metadata": {},
   "outputs": [
    {
     "name": "stdout",
     "output_type": "stream",
     "text": [
      "The solution are (-3+0j) and (-2+0j)\n"
     ]
    }
   ],
   "source": [
    "# Solve the quadratic equation ax**2 + bx + c = 0\n",
    "\n",
    "# import complex math module\n",
    "import cmath\n",
    "\n",
    "a = 1\n",
    "b = 5\n",
    "c = 6\n",
    "\n",
    "# calculate the discriminant\n",
    "d = (b**2) - (4*a*c)\n",
    "\n",
    "# find two solutions\n",
    "sol1 = (-b-cmath.sqrt(d))/(2*a)\n",
    "sol2 = (-b+cmath.sqrt(d))/(2*a)\n",
    "\n",
    "print('The solution are {0} and {1}'.format(sol1,sol2))"
   ]
  },
  {
   "cell_type": "code",
   "execution_count": 28,
   "id": "be41d43a-fef1-4cb9-a093-d6c8dab103a4",
   "metadata": {},
   "outputs": [
    {
     "name": "stdin",
     "output_type": "stream",
     "text": [
      " enter the input: 0\n"
     ]
    },
    {
     "name": "stdout",
     "output_type": "stream",
     "text": [
      "0 is euql to zero\n"
     ]
    }
   ],
   "source": [
    "# check a no as zero/poistive/negetive\n",
    "num=int(input(\" enter the input:\"))\n",
    "if num>0:\n",
    "    print( '{} is positive'.format(num))\n",
    "elif num<0:\n",
    "    print( '{} is negetive'.format(num))\n",
    "else:\n",
    "    print( '{} is euql to zero'.format(num))\n"
   ]
  },
  {
   "cell_type": "code",
   "execution_count": 32,
   "id": "5775d4d9-b16d-4ad2-8fac-276c560a41e4",
   "metadata": {},
   "outputs": [
    {
     "name": "stdin",
     "output_type": "stream",
     "text": [
      " enter the input: 1\n"
     ]
    },
    {
     "name": "stdout",
     "output_type": "stream",
     "text": [
      "1 is an odd number\n"
     ]
    }
   ],
   "source": [
    "# even odd number\n",
    "num=int(input(\" enter the input:\"))\n",
    "if num%2==0:\n",
    "    print( '{} is an even number'.format(num))\n",
    "else:\n",
    "    print( '{} is an odd number'.format(num))\n",
    "    "
   ]
  },
  {
   "cell_type": "code",
   "execution_count": null,
   "id": "205d2647-7d86-4153-a2cd-4859e6552ecc",
   "metadata": {},
   "outputs": [],
   "source": []
  },
  {
   "cell_type": "code",
   "execution_count": 38,
   "id": "ce573d02-9d3b-4757-9333-94b4ed79d1f0",
   "metadata": {},
   "outputs": [
    {
     "name": "stdout",
     "output_type": "stream",
     "text": [
      "4 is a leap year\n"
     ]
    }
   ],
   "source": [
    "# Python program to check if year is a leap year or not\n",
    "\n",
    "year = 4\n",
    "\n",
    "# To get year (integer input) from the user\n",
    "# year = int(input(\"Enter a year: \"))\n",
    "\n",
    "# divided by 100 means century year (ending with 00)\n",
    "# century year divided by 400 is leap year\n",
    "if (year % 400 == 0) and (year % 100 == 0):\n",
    "    print(\"{0} is a leap year\".format(year))\n",
    "\n",
    "# not divided by 100 means not a century year\n",
    "# year divided by 4 is a leap year\n",
    "elif (year % 4 ==0) and (year % 100 != 0):\n",
    "    print(\"{0} is a leap year\".format(year))\n",
    "\n",
    "# if not divided by both 400 (century year) and 4 (not century year)\n",
    "# year is not leap year\n",
    "else:\n",
    "    print(\"{0} is not a leap year\".format(year))"
   ]
  },
  {
   "cell_type": "code",
   "execution_count": 44,
   "id": "1378682e-98e8-4a02-b4af-ddf9556d459a",
   "metadata": {},
   "outputs": [
    {
     "name": "stdin",
     "output_type": "stream",
     "text": [
      " enter the number: 11\n"
     ]
    }
   ],
   "source": [
    "# prime number\n",
    "num=int(input(\" enter the number:\"))\n",
    "for i in range(2,num):\n",
    "        if (num%i)==0:\n",
    "            print(\"{0} is not a prime number\".format(num))"
   ]
  },
  {
   "cell_type": "code",
   "execution_count": 43,
   "id": "f9b523af-3d4c-4c9d-a262-993072d32202",
   "metadata": {},
   "outputs": [
    {
     "name": "stdout",
     "output_type": "stream",
     "text": [
      "29 is a prime number\n"
     ]
    }
   ],
   "source": [
    "num = 29\n",
    "\n",
    "# To take input from the user\n",
    "#num = int(input(\"Enter a number: \"))\n",
    "\n",
    "# define a flag variable\n",
    "flag = False\n",
    "\n",
    "if num == 1:\n",
    "    print(num, \"is not a prime number\")\n",
    "elif num > 1:\n",
    "    # check for factors\n",
    "    for i in range(2, num):\n",
    "        if (num % i) == 0:\n",
    "            # if factor is found, set flag to True\n",
    "            flag = True\n",
    "            # break out of loop\n",
    "            break\n",
    "\n",
    "    # check if flag is True\n",
    "    if flag:\n",
    "        print(num, \"is not a prime number\")\n",
    "    else:\n",
    "        print(num, \"is a prime number\")"
   ]
  },
  {
   "cell_type": "code",
   "execution_count": null,
   "id": "5dd3f943-dd17-4448-9773-33c2eb157656",
   "metadata": {},
   "outputs": [],
   "source": []
  }
 ],
 "metadata": {
  "kernelspec": {
   "display_name": "Python 3 (ipykernel)",
   "language": "python",
   "name": "python3"
  },
  "language_info": {
   "codemirror_mode": {
    "name": "ipython",
    "version": 3
   },
   "file_extension": ".py",
   "mimetype": "text/x-python",
   "name": "python",
   "nbconvert_exporter": "python",
   "pygments_lexer": "ipython3",
   "version": "3.10.6"
  }
 },
 "nbformat": 4,
 "nbformat_minor": 5
}
